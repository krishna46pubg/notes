{
 "cells": [
  {
   "cell_type": "code",
   "execution_count": null,
   "id": "7aa2cc43",
   "metadata": {},
   "outputs": [],
   "source": [
    "import numpy as np\n",
    "np.__version__"
   ]
  },
  {
   "cell_type": "markdown",
   "id": "9061f75b",
   "metadata": {},
   "source": [
    "# Create an 1d array useing array function"
   ]
  },
  {
   "cell_type": "code",
   "execution_count": 6,
   "id": "03dfa815",
   "metadata": {},
   "outputs": [
    {
     "name": "stdout",
     "output_type": "stream",
     "text": [
      "[1 2 3 4 5]\n",
      "(5,)\n",
      "int32\n"
     ]
    }
   ],
   "source": [
    "a =np.array([1,2,3,4,5])\n",
    "print(a)\n",
    "print(a.shape)\n",
    "print(a.dtype)"
   ]
  },
  {
   "cell_type": "markdown",
   "id": "04715dce",
   "metadata": {},
   "source": [
    "# Create an 2d array useing array function"
   ]
  },
  {
   "cell_type": "code",
   "execution_count": 7,
   "id": "0ddcfd74",
   "metadata": {},
   "outputs": [
    {
     "name": "stdout",
     "output_type": "stream",
     "text": [
      "[[1 2 3 4]\n",
      " [5 6 7 8]]\n",
      "(2, 4)\n",
      "int32\n"
     ]
    }
   ],
   "source": [
    "a =np.array([[1,2,3,4],[5,6,7,8]])\n",
    "print(a)\n",
    "print(a.shape)\n",
    "print(a.dtype)"
   ]
  },
  {
   "cell_type": "markdown",
   "id": "1e7e8f4b",
   "metadata": {},
   "source": [
    "# Create an 3d array useing array function"
   ]
  },
  {
   "cell_type": "code",
   "execution_count": 10,
   "id": "af88b597",
   "metadata": {},
   "outputs": [
    {
     "name": "stdout",
     "output_type": "stream",
     "text": [
      "[[[1 2 3]\n",
      "  [2 3 4]]\n",
      "\n",
      " [[3 4 5]\n",
      "  [4 5 6]]\n",
      "\n",
      " [[5 6 7]\n",
      "  [6 7 8]]]\n",
      "int32\n",
      "(3, 2, 3)\n"
     ]
    }
   ],
   "source": [
    "a =np.array([[[1,2,3],[2,3,4]],[[3,4,5],[4,5,6]],[[5,6,7],[6,7,8]]])\n",
    "print(a)\n",
    "print(a.dtype)\n",
    "print(a.shape)\n"
   ]
  },
  {
   "cell_type": "markdown",
   "id": "ec4c9a85",
   "metadata": {},
   "source": [
    "# create 1D array using arange function"
   ]
  },
  {
   "cell_type": "code",
   "execution_count": 12,
   "id": "8bb83dbe",
   "metadata": {},
   "outputs": [
    {
     "name": "stdout",
     "output_type": "stream",
     "text": [
      "[0 1 2 3 4 5 6 7 8 9]\n",
      "int32\n",
      "(10,)\n"
     ]
    }
   ],
   "source": [
    "b =np.arange(10)\n",
    "print(b)\n",
    "print(b.dtype)\n",
    "print(b.shape)"
   ]
  },
  {
   "cell_type": "markdown",
   "id": "81b83fc8",
   "metadata": {},
   "source": [
    "# create 2D array using arange function"
   ]
  },
  {
   "cell_type": "code",
   "execution_count": 17,
   "id": "d0001ecf",
   "metadata": {},
   "outputs": [
    {
     "name": "stdout",
     "output_type": "stream",
     "text": [
      "[[0 1 2 3 4]\n",
      " [5 6 7 8 9]]\n",
      "(2, 5)\n",
      "int32\n"
     ]
    }
   ],
   "source": [
    "b =np.arange(10).reshape(2,5)\n",
    "print(b)\n",
    "print(b.shape)\n",
    "print(b.dtype)\n"
   ]
  },
  {
   "cell_type": "markdown",
   "id": "db12ebd0",
   "metadata": {},
   "source": [
    "# create 3D array using arange function"
   ]
  },
  {
   "cell_type": "code",
   "execution_count": 36,
   "id": "9edd72d6",
   "metadata": {},
   "outputs": [
    {
     "name": "stdout",
     "output_type": "stream",
     "text": [
      "[[[ 0  1  2]\n",
      "  [ 3  4  5]]\n",
      "\n",
      " [[ 6  7  8]\n",
      "  [ 9 10 11]]\n",
      "\n",
      " [[12 13 14]\n",
      "  [15 16 17]]]\n",
      "(3, 2, 3)\n",
      "int32\n"
     ]
    }
   ],
   "source": [
    "b =np.arange(18).reshape(3,2,3)\n",
    "print(b)\n",
    "print(b.shape)\n",
    "print(b.dtype)"
   ]
  },
  {
   "cell_type": "markdown",
   "id": "20c449a6",
   "metadata": {},
   "source": [
    "# create array useing ones 1D"
   ]
  },
  {
   "cell_type": "code",
   "execution_count": 54,
   "id": "b85f69d9",
   "metadata": {},
   "outputs": [
    {
     "name": "stdout",
     "output_type": "stream",
     "text": [
      "[1 1 1 1 1 1 1 1 1 1]\n",
      "(10,)\n"
     ]
    }
   ],
   "source": [
    "c =np.ones(10,dtype=np.int32)\n",
    "print(c)\n",
    "#print(c.dtype)\n",
    "print(c.shape)"
   ]
  },
  {
   "cell_type": "markdown",
   "id": "497bd03b",
   "metadata": {},
   "source": [
    "# create array useing ones 2D"
   ]
  },
  {
   "cell_type": "code",
   "execution_count": 62,
   "id": "f63a7e51",
   "metadata": {},
   "outputs": [
    {
     "name": "stdout",
     "output_type": "stream",
     "text": [
      "[[1. 1.]\n",
      " [1. 1.]\n",
      " [1. 1.]\n",
      " [1. 1.]\n",
      " [1. 1.]]\n",
      "(5, 2)\n",
      "float64\n"
     ]
    }
   ],
   "source": [
    "c =np.ones(([5,2]))\n",
    "print(c)\n",
    "print(c.shape)\n",
    "print(c.dtype)"
   ]
  },
  {
   "cell_type": "markdown",
   "id": "c3295bbf",
   "metadata": {},
   "source": [
    "# create array useing ones 3D"
   ]
  },
  {
   "cell_type": "code",
   "execution_count": 65,
   "id": "9ec37452",
   "metadata": {},
   "outputs": [
    {
     "name": "stdout",
     "output_type": "stream",
     "text": [
      "[[[1. 1. 1. 1. 1.]\n",
      "  [1. 1. 1. 1. 1.]\n",
      "  [1. 1. 1. 1. 1.]]\n",
      "\n",
      " [[1. 1. 1. 1. 1.]\n",
      "  [1. 1. 1. 1. 1.]\n",
      "  [1. 1. 1. 1. 1.]]\n",
      "\n",
      " [[1. 1. 1. 1. 1.]\n",
      "  [1. 1. 1. 1. 1.]\n",
      "  [1. 1. 1. 1. 1.]]\n",
      "\n",
      " [[1. 1. 1. 1. 1.]\n",
      "  [1. 1. 1. 1. 1.]\n",
      "  [1. 1. 1. 1. 1.]]\n",
      "\n",
      " [[1. 1. 1. 1. 1.]\n",
      "  [1. 1. 1. 1. 1.]\n",
      "  [1. 1. 1. 1. 1.]]]\n",
      "(5, 3, 5)\n",
      "float64\n"
     ]
    }
   ],
   "source": [
    "c =np.ones((([5,3,5])))\n",
    "print(c)\n",
    "print(c.shape)\n",
    "print(c.dtype)"
   ]
  },
  {
   "cell_type": "markdown",
   "id": "561bf0bb",
   "metadata": {},
   "source": [
    "# creating random numbers useing 1D array"
   ]
  },
  {
   "cell_type": "code",
   "execution_count": 86,
   "id": "3da59ac4",
   "metadata": {},
   "outputs": [
    {
     "name": "stdout",
     "output_type": "stream",
     "text": [
      "[1 1 1 2 2 2 2 1 1 2]\n",
      "(10,)\n",
      "int32\n"
     ]
    }
   ],
   "source": [
    "d =np.random.randint(1,3,size=(10))\n",
    "print(d)\n",
    "print(d.shape)\n",
    "print(d.dtype)"
   ]
  },
  {
   "cell_type": "markdown",
   "id": "7c0b82e9",
   "metadata": {},
   "source": [
    "# creating random numbers useing 2D array"
   ]
  },
  {
   "cell_type": "code",
   "execution_count": 93,
   "id": "21b4dda7",
   "metadata": {},
   "outputs": [
    {
     "name": "stdout",
     "output_type": "stream",
     "text": [
      "[[8 6 5 6 5 9 5 6 5 6]\n",
      " [7 9 8 8 8 8 7 8 9 8]\n",
      " [5 6 6 9 7 5 8 5 5 6]\n",
      " [8 5 6 5 6 5 9 8 9 5]\n",
      " [6 9 8 7 6 5 9 9 7 6]]\n",
      "(5, 10)\n",
      "int32\n"
     ]
    }
   ],
   "source": [
    "d =np.random.randint(5,10,size=(5,10))\n",
    "print(d)\n",
    "print(d.shape)\n",
    "print(d.dtype)\n",
    "\n"
   ]
  },
  {
   "cell_type": "markdown",
   "id": "04ee84d7",
   "metadata": {},
   "source": [
    "# creating random numbers useing 3D array"
   ]
  },
  {
   "cell_type": "code",
   "execution_count": 106,
   "id": "a969127a",
   "metadata": {},
   "outputs": [
    {
     "name": "stdout",
     "output_type": "stream",
     "text": [
      "[[[6 6 9]\n",
      "  [5 8 5]\n",
      "  [6 8 7]]\n",
      "\n",
      " [[7 7 9]\n",
      "  [5 6 5]\n",
      "  [6 8 9]]\n",
      "\n",
      " [[8 8 9]\n",
      "  [6 8 9]\n",
      "  [8 9 5]]]\n",
      "(3, 3, 3)\n",
      "int32\n"
     ]
    }
   ],
   "source": [
    "d =np.random.randint(5,10,size=(3,3,3))\n",
    "print(d)\n",
    "print(d.shape)\n",
    "print(d.dtype)"
   ]
  },
  {
   "cell_type": "markdown",
   "id": "dc3e02ce",
   "metadata": {},
   "source": [
    "# crete array with single low multipal high"
   ]
  },
  {
   "cell_type": "code",
   "execution_count": 110,
   "id": "077baa00",
   "metadata": {},
   "outputs": [
    {
     "name": "stdout",
     "output_type": "stream",
     "text": [
      "[ 9  8 11]\n",
      "(3,)\n",
      "int32\n"
     ]
    }
   ],
   "source": [
    "e =np.random.randint(5,[10,20,30])\n",
    "print(e)\n",
    "print(e.shape)\n",
    "print(e.dtype)"
   ]
  },
  {
   "cell_type": "markdown",
   "id": "968bb417",
   "metadata": {},
   "source": [
    "# crete array with single high multipal low"
   ]
  },
  {
   "cell_type": "code",
   "execution_count": 115,
   "id": "6cdabaa8",
   "metadata": {},
   "outputs": [
    {
     "name": "stdout",
     "output_type": "stream",
     "text": [
      "[21 24 49]\n",
      "(3,)\n",
      "int32\n"
     ]
    }
   ],
   "source": [
    "e =np.random.randint([10,20,30],50)\n",
    "print(e)\n",
    "print(e.shape)\n",
    "print(e.dtype)"
   ]
  },
  {
   "cell_type": "markdown",
   "id": "9fa221f2",
   "metadata": {},
   "source": [
    "# crete array with  multipal low multipal high"
   ]
  },
  {
   "cell_type": "code",
   "execution_count": 119,
   "id": "ccd3af77",
   "metadata": {},
   "outputs": [
    {
     "name": "stdout",
     "output_type": "stream",
     "text": [
      "[ 9 13 13]\n",
      "(3,)\n",
      "int32\n"
     ]
    }
   ],
   "source": [
    "e =np.random.randint([2,4,8],[10,20,30])\n",
    "print(e)\n",
    "print(e.shape)\n",
    "print(e.dtype)\n"
   ]
  },
  {
   "cell_type": "markdown",
   "id": "2c12fad2",
   "metadata": {},
   "source": [
    "# random.randn function 1D"
   ]
  },
  {
   "cell_type": "code",
   "execution_count": 128,
   "id": "74bba8f3",
   "metadata": {},
   "outputs": [
    {
     "data": {
      "text/plain": [
       "array([-1.07566383,  0.91281642, -0.41425969,  0.07458344,  0.36475059,\n",
       "        0.41151678,  1.1648124 ,  0.96281939, -0.01190039,  0.21752064])"
      ]
     },
     "execution_count": 128,
     "metadata": {},
     "output_type": "execute_result"
    }
   ],
   "source": [
    "f =np.random.randn(10)\n",
    "f"
   ]
  },
  {
   "cell_type": "markdown",
   "id": "21601ccf",
   "metadata": {},
   "source": [
    "# random.randn function 2D"
   ]
  },
  {
   "cell_type": "code",
   "execution_count": 131,
   "id": "aa1fec2c",
   "metadata": {},
   "outputs": [
    {
     "name": "stdout",
     "output_type": "stream",
     "text": [
      "[[-0.69718365  1.46297091 -1.29421719  0.35136174  0.47872806 -1.05146324\n",
      "   0.21103406 -0.37905229 -0.2169517   0.28562658]\n",
      " [-0.98412141  1.31422698  0.2656402  -0.73095166  0.82510126 -1.73746647\n",
      "   0.55399876  0.32860521  1.58821494  0.42488293]\n",
      " [ 0.54097532  1.47757289  1.18802402 -0.3614405   0.53378967  0.19769988\n",
      "  -1.33348782 -1.72552988  0.7933729   0.48489573]\n",
      " [ 1.30435152 -1.12992666 -1.48737915 -0.35855257  2.65547088  2.42045471\n",
      "   2.58675236 -0.6813945  -1.4316016   0.72672441]\n",
      " [ 1.82387784 -0.80780769 -0.68182683 -1.44445206 -0.62614631 -1.20836189\n",
      "  -1.18342884  0.60286689 -0.82581641  0.22268491]]\n",
      "float64\n",
      "(5, 10)\n"
     ]
    }
   ],
   "source": [
    "f =np.random.randn(5,10)\n",
    "print(f)\n",
    "print(f.dtype)\n",
    "print(f.shape)"
   ]
  },
  {
   "cell_type": "markdown",
   "id": "c0725074",
   "metadata": {},
   "source": [
    "# random.randn function 3D"
   ]
  },
  {
   "cell_type": "code",
   "execution_count": 135,
   "id": "9046d23f",
   "metadata": {},
   "outputs": [
    {
     "name": "stdout",
     "output_type": "stream",
     "text": [
      "[[[ 0.47434025 -1.613174   -0.43304387 -1.57552212 -1.71245814\n",
      "   -0.14363264  0.29383292 -0.10166969]\n",
      "  [ 0.45218405  0.32002265  0.39855177 -1.16406866  0.59678873\n",
      "   -0.21634414 -0.1538594   1.89365452]\n",
      "  [-3.29428088 -0.16712516 -0.54807568 -0.30377643  0.82929447\n",
      "   -0.06168004  0.54987585  0.22498544]\n",
      "  [-0.58417697 -1.72143436 -1.71141287  1.35153854 -0.99970278\n",
      "   -0.73679984  0.8751589  -1.18743433]]\n",
      "\n",
      " [[-0.31209369  1.24764777 -0.77396921 -0.53032037  1.00733451\n",
      "   -1.18420759 -0.54398873 -0.61977556]\n",
      "  [-0.8555891  -0.51506896  0.39509161  0.3628351  -2.16442741\n",
      "   -0.78857654 -0.65063251  0.69615374]\n",
      "  [-0.74789593  0.4502436   2.38423948  0.61518975  0.06685943\n",
      "   -1.23512308  0.11427477 -0.99727327]\n",
      "  [ 0.41660677  0.59070864  0.64306179  1.56993514 -0.95390366\n",
      "    0.0582889  -0.32853493 -0.21243358]]]\n",
      "(2, 4, 8)\n",
      "float64\n"
     ]
    }
   ],
   "source": [
    "f =np.random.randn(2,4,8)\n",
    "print(f)\n",
    "print(f.shape)\n",
    "print(f.dtype)"
   ]
  },
  {
   "cell_type": "markdown",
   "id": "3d548405",
   "metadata": {},
   "source": [
    "# creating rand function 1D"
   ]
  },
  {
   "cell_type": "code",
   "execution_count": 140,
   "id": "a596f249",
   "metadata": {},
   "outputs": [
    {
     "name": "stdout",
     "output_type": "stream",
     "text": [
      "[0.64414871 0.81259784 0.20640097 0.92817078 0.44793233 0.43286562\n",
      " 0.27739818 0.49751568 0.44733841 0.29595154]\n",
      "(10,)\n",
      "float64\n"
     ]
    }
   ],
   "source": [
    "g =np.random.rand(10)\n",
    "print(g)\n",
    "print(g.shape)\n",
    "print(g.dtype)"
   ]
  },
  {
   "cell_type": "markdown",
   "id": "3b04db41",
   "metadata": {},
   "source": [
    "# create rand function 2D"
   ]
  },
  {
   "cell_type": "code",
   "execution_count": 144,
   "id": "e48ceb28",
   "metadata": {},
   "outputs": [
    {
     "name": "stdout",
     "output_type": "stream",
     "text": [
      "[[0.59209358 0.81440626 0.07696993 0.17070308 0.37358458 0.86623814\n",
      "  0.6729894  0.25448844]\n",
      " [0.2639719  0.13645231 0.48264761 0.83944891 0.93855233 0.7067304\n",
      "  0.11880265 0.20890534]\n",
      " [0.74536565 0.75364245 0.60970143 0.04389582 0.77333384 0.68364194\n",
      "  0.83145371 0.27399696]\n",
      " [0.69332441 0.15931609 0.38021146 0.34238876 0.87377085 0.39870708\n",
      "  0.47009253 0.22194429]\n",
      " [0.4258866  0.89594264 0.70689152 0.70157318 0.69489751 0.81854752\n",
      "  0.75987079 0.58121542]]\n",
      "(5, 8)\n",
      "float64\n"
     ]
    }
   ],
   "source": [
    "g =np.random.rand(5,8)\n",
    "print(g)\n",
    "print(g.shape)\n",
    "print(g.dtype)"
   ]
  },
  {
   "cell_type": "markdown",
   "id": "9bb6b69b",
   "metadata": {},
   "source": [
    "# create rand function 3D"
   ]
  },
  {
   "cell_type": "code",
   "execution_count": 147,
   "id": "c83e6c41",
   "metadata": {},
   "outputs": [
    {
     "name": "stdout",
     "output_type": "stream",
     "text": [
      "[[[0.30443774 0.84995386 0.27517428 0.018529   0.00593678 0.69623245]\n",
      "  [0.27134834 0.27446917 0.60517864 0.71658105 0.609389   0.59175145]\n",
      "  [0.11040054 0.60964939 0.69686487 0.96990726 0.39461823 0.39426819]\n",
      "  [0.08685225 0.42241276 0.28350476 0.0904904  0.14097467 0.01821525]]\n",
      "\n",
      " [[0.74966216 0.0969189  0.69578828 0.93649633 0.95585056 0.82756011]\n",
      "  [0.87387625 0.41430694 0.45017214 0.29415366 0.5155944  0.87271291]\n",
      "  [0.5854167  0.7264927  0.69019101 0.56874634 0.24801962 0.76931556]\n",
      "  [0.2362825  0.71684574 0.18832297 0.18866968 0.08738967 0.02844395]]]\n",
      "(2, 4, 6)\n",
      "float64\n"
     ]
    }
   ],
   "source": [
    "g =np.random.rand(2,4,6)\n",
    "print(g)\n",
    "print(g.shape)\n",
    "print(g.dtype)"
   ]
  },
  {
   "cell_type": "markdown",
   "id": "ef525f54",
   "metadata": {},
   "source": [
    "# creating array positive indexing 1D"
   ]
  },
  {
   "cell_type": "code",
   "execution_count": 149,
   "id": "acca3596",
   "metadata": {},
   "outputs": [
    {
     "name": "stdout",
     "output_type": "stream",
     "text": [
      "4\n",
      "10\n"
     ]
    }
   ],
   "source": [
    "h =np.array([10,22,33,4,9])\n",
    "print(h[3])\n",
    "print(h[0])"
   ]
  },
  {
   "cell_type": "markdown",
   "id": "48af0644",
   "metadata": {},
   "source": [
    "# creating array positive indexing 2D"
   ]
  },
  {
   "cell_type": "code",
   "execution_count": 152,
   "id": "97bd2ebb",
   "metadata": {},
   "outputs": [
    {
     "name": "stdout",
     "output_type": "stream",
     "text": [
      "2\n",
      "5\n"
     ]
    }
   ],
   "source": [
    "h =np.array([[1,2,3,4],[5,6,7,8]])\n",
    "print(h[0,1])\n",
    "print(h[1,0])"
   ]
  },
  {
   "cell_type": "markdown",
   "id": "951681f0",
   "metadata": {},
   "source": [
    "# creating array positive indexing 3D"
   ]
  },
  {
   "cell_type": "code",
   "execution_count": 159,
   "id": "398cc76a",
   "metadata": {},
   "outputs": [
    {
     "name": "stdout",
     "output_type": "stream",
     "text": [
      "6\n",
      "8\n",
      "5\n",
      "4\n",
      "2\n",
      "2\n"
     ]
    }
   ],
   "source": [
    "h =np.array([[[1,2,3,],[2,3,4]],[[3,4,5],[4,5,6]],[[5,6,7],[6,7,8]]])\n",
    "print(h[2,0,1])\n",
    "print(h[2,1,2])\n",
    "print(h[1,0,2])\n",
    "print(h[1,1,0])\n",
    "print(h[0,0,1])\n",
    "print(h[0,1,0])\n",
    "\n",
    "\n",
    "\n",
    "\n"
   ]
  },
  {
   "cell_type": "markdown",
   "id": "cfb1c120",
   "metadata": {},
   "source": [
    "# creating array negative indexing 1D"
   ]
  },
  {
   "cell_type": "code",
   "execution_count": 161,
   "id": "ee84a66c",
   "metadata": {},
   "outputs": [
    {
     "name": "stdout",
     "output_type": "stream",
     "text": [
      "2\n",
      "5\n"
     ]
    }
   ],
   "source": [
    "i=np.array([1,2,3,4,5])\n",
    "print(i[-4])\n",
    "print(i[-1])"
   ]
  },
  {
   "cell_type": "markdown",
   "id": "ce0e311d",
   "metadata": {},
   "source": [
    "# creating array negative indexing 2D"
   ]
  },
  {
   "cell_type": "code",
   "execution_count": 165,
   "id": "00f16233",
   "metadata": {},
   "outputs": [
    {
     "name": "stdout",
     "output_type": "stream",
     "text": [
      "6\n",
      "4\n"
     ]
    }
   ],
   "source": [
    "i=np.array([[1,2,3,4],[5,6,7,8]])\n",
    "print(i[-1,-3])\n",
    "print(i[-2,-1])"
   ]
  },
  {
   "cell_type": "markdown",
   "id": "6ebd11f2",
   "metadata": {},
   "source": [
    "# creating array negative indexing 3D"
   ]
  },
  {
   "cell_type": "code",
   "execution_count": 177,
   "id": "a4ef034e",
   "metadata": {},
   "outputs": [
    {
     "name": "stdout",
     "output_type": "stream",
     "text": [
      "8\n",
      "5\n",
      "5\n",
      "3\n",
      "3\n",
      "3\n"
     ]
    }
   ],
   "source": [
    "i=np.array([[[1,2,3],[2,3,4]],[[3,4,5],[4,5,6]],[[5,6,7],[6,7,8]]])\n",
    "print(i[-1,-1,-1])\n",
    "print(i[-1,-2,-3])\n",
    "print(i[-2,-1,-2])\n",
    "print(i[-2,-2,-3])\n",
    "print(i[-3,-1,-2])\n",
    "print(i[-3,-2,-1])"
   ]
  },
  {
   "cell_type": "markdown",
   "id": "60aa84e6",
   "metadata": {},
   "source": [
    "# numpy array slicing"
   ]
  },
  {
   "cell_type": "markdown",
   "id": "2c893110",
   "metadata": {},
   "source": [
    "# slice elements from index 1to index 5 from the folling array"
   ]
  },
  {
   "cell_type": "code",
   "execution_count": 184,
   "id": "512e02c0",
   "metadata": {},
   "outputs": [
    {
     "name": "stdout",
     "output_type": "stream",
     "text": [
      "[2 3 4 5]\n",
      "[1 2 3 4 5 6]\n"
     ]
    }
   ],
   "source": [
    "j =np.array([1,2,3,4,5,6,7])\n",
    "print(j[1:5])\n",
    "print(j[:6])"
   ]
  },
  {
   "cell_type": "markdown",
   "id": "cc81b535",
   "metadata": {},
   "source": [
    "# slice elements from index 4to end array"
   ]
  },
  {
   "cell_type": "code",
   "execution_count": 187,
   "id": "aaedecc0",
   "metadata": {},
   "outputs": [
    {
     "name": "stdout",
     "output_type": "stream",
     "text": [
      "[5 6 7 8]\n",
      "[3 4 5 6 7 8]\n"
     ]
    }
   ],
   "source": [
    "j =np.array([1,2,3,4,5,6,7,8])\n",
    "print(j[4:])\n",
    "#from index 2to end\n",
    "print(j[2:])"
   ]
  },
  {
   "cell_type": "markdown",
   "id": "7b07459e",
   "metadata": {},
   "source": [
    "# slice elements from start to index 4 (not include)"
   ]
  },
  {
   "cell_type": "code",
   "execution_count": 189,
   "id": "abc4f664",
   "metadata": {},
   "outputs": [
    {
     "name": "stdout",
     "output_type": "stream",
     "text": [
      "[1 2 3 4]\n",
      "[1 2 3 4 5 6 7]\n"
     ]
    }
   ],
   "source": [
    "j =np.array([1,2,3,4,5,6,7,8,9,10])\n",
    "print(j[:4])\n",
    "#start to index 7\n",
    "print(j[:7])"
   ]
  },
  {
   "cell_type": "markdown",
   "id": "2ae1ecf1",
   "metadata": {},
   "source": [
    "# negative slicing"
   ]
  },
  {
   "cell_type": "markdown",
   "id": "5b907e99",
   "metadata": {},
   "source": [
    "# slice from index 3 from end of to index 1 from end"
   ]
  },
  {
   "cell_type": "code",
   "execution_count": 191,
   "id": "ef09b9b8",
   "metadata": {},
   "outputs": [
    {
     "name": "stdout",
     "output_type": "stream",
     "text": [
      "[7 8]\n",
      "[3 4 5 6]\n"
     ]
    }
   ],
   "source": [
    "k =np.array([1,2,3,4,5,6,7,8,9])\n",
    "print(k[-3:-1])\n",
    "# index 7 to index 3 from end\n",
    "\n",
    "print(k[-7:-3])"
   ]
  },
  {
   "cell_type": "markdown",
   "id": "17c101a6",
   "metadata": {},
   "source": [
    "# return every eliments from index 1 to index 5"
   ]
  },
  {
   "cell_type": "code",
   "execution_count": 194,
   "id": "9442e667",
   "metadata": {},
   "outputs": [
    {
     "name": "stdout",
     "output_type": "stream",
     "text": [
      "[1 2 3 4]\n"
     ]
    }
   ],
   "source": [
    "k=np.array([1,2,3,4,5])\n",
    "print(k[:-1])"
   ]
  },
  {
   "cell_type": "code",
   "execution_count": null,
   "id": "7d658c66",
   "metadata": {},
   "outputs": [],
   "source": []
  }
 ],
 "metadata": {
  "kernelspec": {
   "display_name": "Python 3 (ipykernel)",
   "language": "python",
   "name": "python3"
  },
  "language_info": {
   "codemirror_mode": {
    "name": "ipython",
    "version": 3
   },
   "file_extension": ".py",
   "mimetype": "text/x-python",
   "name": "python",
   "nbconvert_exporter": "python",
   "pygments_lexer": "ipython3",
   "version": "3.9.12"
  }
 },
 "nbformat": 4,
 "nbformat_minor": 5
}
